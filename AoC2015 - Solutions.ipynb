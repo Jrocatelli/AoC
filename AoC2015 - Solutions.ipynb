{
 "cells": [
  {
   "cell_type": "markdown",
   "id": "7b835ed7",
   "metadata": {},
   "source": [
    "# **Puzzles - Advent of Code 2015**"
   ]
  },
  {
   "cell_type": "markdown",
   "id": "58921b16",
   "metadata": {},
   "source": [
    "This notebook contains my solutions for the problems presented in [Advent of Code](https://adventofcode.com/) 2015. I only had the opportunity to discover this project by the end of 2024 and got really excited about solving some puzzles.\n",
    "\n",
    "As I wait for this year's version, I will try to solve the problems from past events. I thought a good idea would be to start from the beginning, in this case, 2015, when the first edition of the event took place.\n",
    "\n",
    "So, let's start!"
   ]
  },
  {
   "cell_type": "markdown",
   "id": "06b163ac",
   "metadata": {},
   "source": [
    "## **Day 1 - Part 1**"
   ]
  },
  {
   "cell_type": "markdown",
   "id": "554a9883",
   "metadata": {},
   "source": [
    "Santa is trying to deliver presents in a large apartment building, but he can't find the right floor - the directions he got are a little confusing. He starts on the ground floor (floor 0) and then follows the instructions one character at a time.\n",
    "\n",
    "An opening parenthesis, **(, means he should go up one floor**, and a closing parenthesis, **), means he should go down one floor**.\n",
    "\n",
    "The apartment building is very tall, and the basement is very deep; he will never find the top or bottom floors.\n",
    "\n",
    "For example:\n",
    "\n",
    "- (()) and ()() both result in floor 0.\n",
    "- ((( and (()(()( both result in floor 3.\n",
    "- ))((((( also results in floor 3.\n",
    "- ()) and ))( both result in floor -1 (the first basement level).\n",
    "- ))) and )())()) both result in floor -3.\n",
    "\n",
    "To what floor do the instructions take Santa?"
   ]
  },
  {
   "cell_type": "code",
   "execution_count": 4,
   "id": "44b10216",
   "metadata": {},
   "outputs": [
    {
     "data": {
      "text/plain": [
       "74"
      ]
     },
     "execution_count": 4,
     "metadata": {},
     "output_type": "execute_result"
    }
   ],
   "source": [
    "def ParenthesesCounter(instructions):\n",
    "  \n",
    "  counter_down = 0\n",
    "  counter_up = 0\n",
    "\n",
    "  for letter in instructions:\n",
    "    if letter == '(':\n",
    "      counter_up += 1\n",
    "    elif letter == ')':\n",
    "      counter_down -= 1\n",
    "\n",
    "  return counter_up + counter_down\n",
    "\n",
    "santa_instructions = '((((()(()(((((((()))(((()((((()())(())()(((()((((((()((()(()(((()(()((())))()((()()())))))))))()((((((())((()))(((((()(((((((((()()))((()(())()((())((()(()))((()))()))()(((((()(((()()))()())((()((((())()())()((((())()(()(()(((()(())(()(())(((((((())()()(((())(()(()(()(())))(()((((())((()))(((()(()()(((((()()(()(((()(((((())()))()((()(()))()((()((((())((((())(()(((())()()(()()()()()(())((((())((())(()()))()((((())))((((()())()((((())((()())((())(())(((((()((((()(((()((((())(()(((()()))()))((((((()((())()())))(((()(()))(()()(()(((()(()))((()()()())((()()()(((())())()())())())((()))(()(()))(((((()(()(())((()(())(())()((((()())()))((((())(())((())())((((()(((())(())((()()((((()((((((()(())()()(()(()()((((()))(())()())()))(())))(())))())()()(())(()))()((()(()(())()()))(()())))))(()))(()()))(())(((((()(()(()()((())()())))))((())())((())(()(())((()))(())(((()((((((((()()()(()))()()(((()))()((()()(())(())())()(()(())))(((((()(())(())(()))))())()))(()))()(()(((((((()((((())))())())())())()((((((((((((((()()((((((()()()())())()())())())(())(())))())((()())((()(()))))))()))))))))))))))))())((())((())()()))))))(((()((()(()()))((())(()()))()()())))(())))))))(()(((())))())()())))()()(())()))()(()))())((()()))))(()))))()))(()()(())))))))()(((()))))()(()))(())())))))()))((()))((()))())(())))))))))((((())()))()))()))())(())()()(())))())))(()())()))((()()(())))(())((((((()(())((()(((()(()()(())))()))))))()))()(()((()))()(()))(()(((())((((())())(())(()))))))))())))))))())())))))())))))()()(((())()(()))))))))())))))(())()()()))()))()))(()(())()()())())))))))())()(()(()))))()()()))))())(()))))()()))))()())))))(((())()()))(()))))))))))()()))))()()()))))(()())())()()())()(()))))()(()))(())))))))(((((())(())())()()))()()))(())))))()(()))))(())(()()))()())()))()))()))()))))())()()))())())))(()))(()))))))())()(((())()))))))))()))()())))())))())))()))))))))))()()))(()()))))))(())()(()))))())(()))))(()))))(()())))))())())()()))))())()))))))))(()))))()))))))()(()())))))))()))())))())))())))())))))))())(()()))))))(()())())))()())()))))))))))))))())))()(())))()))())()()(())(()()))(())))())()())(()(()(()))))())))))))))))())(()))()))()))))(())()())()())))))))))))()()))))))))))))())())))))(()())))))))))))())(())))()))))))))())())(()))()))(())))()))()()(())()))))))()((((())()))())())))))()))()))))((()())()))))())))(())))))))))))))))))()))))()()())()))()()))))())()))((()())))())))(()))(()())))))))()))()))))(())))))))(())))))())()()(()))())()))()()))))())()()))))())()))())))))))(()))))()())()))))))))(()))())))(()))()))))(())()))())())(())())())))))))((((())))))()))()))()())()(())))()))()))()())(()())()()(()())()))))())())))))(()))()))))())(()()(())))))(())()()((())())))))(())(())))))))())))))))))()(())))))))()())())())()(()))))))))(()))))))))())()()))()(()))))))()))))))())))))))(())))()()(())()())))))(((())))()((())()))())))(()()))())(())())))()(((()())))))()(()()())))()()(()()(()()))())()(()()()))())()()))()())(()))))())))))())))(())()()))))(()))))(())(()))(())))))()()))()))))())()))()()(())())))((()))())()))))))()()))))((()(()))))()()))))))())))))())(()((()())))))))))))()())())))()))(()))))))(()))(())()())))(()))))))))())()()()()))))(()())))))))((())))()))(()))(())(())()())()))))))))(())))())))(()))()()))(()()))(()))())))()(())))())((()((()(())))((())))()))))((((())())()())))(())))()))))))())(()()((())))())()(()())))))(()())()))())))))))((())())))))))(()(()))())()()(()()(((()(((()())))))()))))))()(())(()()((()()(())()()))())()())()))()())())())))))))(((())))))))()()))))))(((())()))(()()))(()()))))(()(()()((((())()())((()()))))(()(())))))()((()()()())()()((()((()()))(()))(((()()()))(((())))()(((())()))))))((()(())())))(()())(((((()(()))(()((()))(()())()))))(()(()))()(()))(())(((())(()()))))()()))(((()))))(()()()()))())))((()()()(())()))()))))()()))()))))))((((((()()()))))())((()()(((()))))(()(())(()()())())())))()(((()()))(())((())))(()))(()()()())((())())())(()))))()))()((()(())()(()()(())(()))(())()))(())(()))))(())(())())(()()(()((()()((())))((()))()((())))(((()()()()((((()))(()()))()()()(((())((())())(()()(()()()))()((())(())()))())(((()()(())))()((()()())()())(()(())())(((())(())())((())(())()(((()()))(())))((())(()())())(())((()()()((((((())))((()(((((())()))()))(())(()()))()))(())()()))(())((()()())()()(()))())()((())))()((()()())((((()())((())())())((()((()))()))((())((()()(()((()()(((())(()()))))((()((())()(((())(()((())())((())(()((((((())())()(()())()(())(((())((((((()(())(()((()()()((()()(()()()())))()()(((((()()))()((((((()))()(()(()(()(((()())((()))())()((()))(())))()))()()))())()()))())((((())(()(()))(((((((())(((()(((((()(((()()((((())(((())())))(()()()(()(()))()))((((((()))((()(((()(())((()((((()((((((())(((((())))(((()(()))))(((()(((())()((())(()((()))(((()()(((())((((()(()(((((()))(((()(((((((()(()()()(()(()(()()())(())(((((()(())())()())(()(()(()))()(()()()())(()()(()((()))()((())())()(()))((())(()))()(()))()(((()(()(()((((((()()()()())()(((((()()(((()()()((()(((((()))((((((((()()()(((((()))))))(()()()(())(()))(()()))))(())()))(((((()(((((()()(()(()())(((()))((((()((()(()(()((()(()((())))()(((()((()))((()))(((((((((()((()((()(())))()((((()((()()))((())(((()(((((()()(()(()()((()(()()()(((((((())())()())))))((((()()(()))()))(()((())()(()(((((((((()()(((()(()())(()((()())((())())((((()(((()(((()((((()((()((((()(()((((((())((((((((((((()()(()()((((((((((((((()((()()))()((((((((((((())((((()(()())((()(()(()))()(((((()()(((()()))()())(())((()(((((()((())(((((()((()(((((()))()()((((())()((((())(((((((((()(())(()(())))())(()((())(((())(())(())())(()(()(())()()((()((())()(((()(((((()(())))()(((()((())))((()()()(((()(((()((()(()(())(()((()())(()(()(((()(((((((((())(()((((()()))(()((((()()()()(((()((((((((()(()()((((((()(()()(()((()((((((((((()()(((((((()())(())))(((()()))(((((()((()()())(()()((((())((()((((()))))(())((()(()()(((()(()(((()((((()(((((()))())())(()((())()))(((()())((())((())((((()((()((((((())(()((((()()))((((((())()(()))((()(((())((((((((((()()(((((()(((((()((()()()((((())))(()))()((()(())()()((()((((((((((()((())(())(((((()(()(()()))((((()((((()()((()(((()(((((((((()(()((()((()))((((((()(((())()()((()(((((((()())))()()(()((()((()()(((()(()()()()((((()((())((((()(((((((((()(((()()(((()(()(((()(((()((())()(()((()(()(()(()))()(((()))(()((((()((())((((())((((((())(()))(()((((())((()(()((((((((()()((((((()(()(()()()(())((()((()()(((()(((((((()()((()(((((((()))(((((()(((()(()()()(()(((()((()()((())(()(((((((((()(()((()((((((()()((())()))(((((()((())()())()(((((((((((()))((((()()()()())(()()(()(()()))()))(()))(()(((()()))())(()(()))()()((())(()())()())()(()))()))(()()(()((((((())((()(((((((((((()(())()((()(()((()((()(()((()((((((((((()()())((())()(())))((())()())()(((((()(()())((((()((()(())(()))(((())()((()))(((((())(()))()()(()))(((())((((()((((()(())))(((((((()))))())()())(())((())()(()()((()(()))()(()()(()()((()())((())((()()))((((()))()()))(()()(())()()(((((()(())((()((((()))()))(()())())(((()()(()()))(())))))(()))((())(((((()((((()))()((((()))()((())(((())))(((()())))((()(()()(('\n",
    "\n",
    "ParenthesesCounter(santa_instructions)"
   ]
  },
  {
   "cell_type": "markdown",
   "id": "3e340d19",
   "metadata": {},
   "source": [
    "## Day 1 - Part II"
   ]
  },
  {
   "cell_type": "markdown",
   "id": "54d9bb7c",
   "metadata": {},
   "source": [
    "Now, given the same instructions, find the position of the first **character that causes him to enter the basement (floor -1)**. The first character in the instructions has position 1, the second character has position 2, and so on.\n",
    "\n",
    "For example:\n",
    "\n",
    "- ) causes him to enter the basement at character position 1.\n",
    "- ()()) causes him to enter the basement at character position 5.\n",
    "\n",
    "What is the position of the character that causes Santa to first enter the basement?"
   ]
  },
  {
   "cell_type": "code",
   "execution_count": 6,
   "id": "6f1c8151",
   "metadata": {},
   "outputs": [
    {
     "data": {
      "text/plain": [
       "1795"
      ]
     },
     "execution_count": 6,
     "metadata": {},
     "output_type": "execute_result"
    }
   ],
   "source": [
    "def BasementEnter(instructions):\n",
    "    counter_down = 0\n",
    "    counter_up = 0\n",
    "\n",
    "    for letter in instructions:\n",
    "        if letter == '(':\n",
    "            counter_up += 1\n",
    "        elif letter == ')':\n",
    "            counter_down += 1\n",
    "        \n",
    "        if counter_up < counter_down:\n",
    "        \n",
    "            return counter_up + counter_down\n",
    "            \n",
    "BasementEnter(santa_instructions)"
   ]
  },
  {
   "cell_type": "markdown",
   "id": "5d6b67eb",
   "metadata": {},
   "source": [
    "## Day 2 - Part 1"
   ]
  },
  {
   "cell_type": "markdown",
   "id": "4a36b4ff",
   "metadata": {},
   "source": [
    "The elves are running low on wrapping paper, and so they need to submit an order for more. They have a list of the dimensions (length l, width w, and height h) of each present, and only want to order exactly as much as they need.\n",
    "\n",
    "Fortunately, every present is a box (a perfect right rectangular prism), which makes calculating the required wrapping paper for each gift a little easier: find the surface area of the box, which is **2 × l × w + 2 × w × h + 2 × h × l**. The elves also need a little extra paper for each present: the area of the smallest side.\n",
    "\n",
    "For example:\n",
    "\n",
    "- A present with dimensions 2 × 3 × 4 requires 2 × 6 + 2 × 12 + 2 × 8 = 52 square feet of wrapping paper plus 6 square feet of slack, for a total of 58 square feet.\n",
    "- A present with dimensions 1 × 1 × 10 requires 2 × 1 + 2 × 10 + 2 × 10 = 42 square feet of wrapping paper plus 1 square foot of slack, for a total of 43 square feet.\n",
    "\n",
    "All numbers in the elves' list are in feet. How many total square feet of wrapping paper should they order?"
   ]
  },
  {
   "cell_type": "code",
   "execution_count": 34,
   "id": "0fbb9574",
   "metadata": {},
   "outputs": [],
   "source": [
    "def PaperGiftDimension(a, b, c):\n",
    "    \n",
    "    side_1 = a*b\n",
    "    side_2 = b*c\n",
    "    side_3 = a*c\n",
    "    \n",
    "    extra_paper = min(side_1, side_2, side_3)\n",
    "    \n",
    "    return 2*(side_1 + side_2 + side_3) + extra_paper"
   ]
  },
  {
   "cell_type": "code",
   "execution_count": 35,
   "id": "51c2e887",
   "metadata": {},
   "outputs": [
    {
     "data": {
      "text/plain": [
       "(3, 11, 24)"
      ]
     },
     "execution_count": 35,
     "metadata": {},
     "output_type": "execute_result"
    }
   ],
   "source": [
    "import re\n",
    "\n",
    "pattern = r'(\\d+)x(\\d+)x(\\d+)'\n",
    "\n",
    "input_data = []\n",
    "\n",
    "with open('day2_input.txt', 'r') as file:\n",
    "    for line in file:\n",
    "        \n",
    "        match = re.match(pattern, line.strip())\n",
    "        \n",
    "        dimensions = match.groups()\n",
    "            \n",
    "        l = int(dimensions[0])\n",
    "        w = int(dimensions[1])\n",
    "        h = int(dimensions[2])\n",
    "        \n",
    "        input_data.append((l, w, h))\n",
    "\n",
    "input_data[0]"
   ]
  },
  {
   "cell_type": "code",
   "execution_count": 36,
   "id": "c44f94bf",
   "metadata": {},
   "outputs": [
    {
     "data": {
      "text/plain": [
       "1588178"
      ]
     },
     "execution_count": 36,
     "metadata": {},
     "output_type": "execute_result"
    }
   ],
   "source": [
    "paper = 0\n",
    "\n",
    "for element in input_data:\n",
    "    \n",
    "    paper += PaperGiftDimension(element[0], element[1], element[2])\n",
    "    \n",
    "paper"
   ]
  },
  {
   "cell_type": "markdown",
   "id": "d4759a72",
   "metadata": {},
   "source": [
    "## Day 2 - Part 2"
   ]
  },
  {
   "cell_type": "markdown",
   "id": "24442d7c",
   "metadata": {},
   "source": [
    "The elves are also running low on ribbon. Ribbon is all the same width, so they only have to worry about the length they need to order, which they would again like to be exact.\n",
    "\n",
    "The ribbon required to wrap a present is the shortest distance around its sides, or the smallest perimeter of any one face. Each present also requires a bow made out of ribbon as well; the feet of ribbon required for the perfect bow is equal to the cubic feet of volume of the present. Don't ask how they tie the bow, though; they'll never tell.\n",
    "\n",
    "For example:\n",
    "\n",
    "- A present with dimensions 2 × 3 × 4 requires 2 + 2 + 3 + 3 = 10 feet of ribbon to wrap the present plus 2 × 3 × 4 = 24 feet of ribbon for the bow, for a total of 34 feet.\n",
    "- A present with dimensions 1 × 1 × 10 requires 1 + 1 + 1 + 1 = 4 feet of ribbon to wrap the present plus 1 × 1 × 10 = 10 feet of ribbon for the bow, for a total of 14 feet.\n",
    "\n",
    "How many total feet of ribbon should they order?"
   ]
  },
  {
   "cell_type": "code",
   "execution_count": 37,
   "id": "8310a4e2",
   "metadata": {},
   "outputs": [],
   "source": [
    "def RibbonSize(a, b, c):\n",
    "    \n",
    "    side_1 = a + b\n",
    "    side_2 = a + c\n",
    "    side_3 = b + c\n",
    "    \n",
    "    ribbon = 2*min(side_1, side_2, side_3)\n",
    "    \n",
    "    return ribbon + a*b*c"
   ]
  },
  {
   "cell_type": "code",
   "execution_count": 39,
   "id": "7728732f",
   "metadata": {},
   "outputs": [
    {
     "data": {
      "text/plain": [
       "3783758"
      ]
     },
     "execution_count": 39,
     "metadata": {},
     "output_type": "execute_result"
    }
   ],
   "source": [
    "ribbon = 0\n",
    "\n",
    "for element in input_data:\n",
    "    ribbon += RibbonSize(element[0], element[1], element[2])\n",
    "\n",
    "ribbon"
   ]
  },
  {
   "cell_type": "markdown",
   "id": "dd561791",
   "metadata": {},
   "source": [
    "## Day 3 - Part 1"
   ]
  },
  {
   "cell_type": "markdown",
   "id": "e5d27572",
   "metadata": {},
   "source": [
    "Santa is delivering presents to an infinite two-dimensional grid of houses.\n",
    "\n",
    "He begins by delivering a present to the house at his starting location, and then an elf at the North Pole calls him via radio and tells him where to move next. Moves are always exactly one house to the north (^), south (v), east (>), or west (<). After each move, he delivers another present to the house at his new location.\n",
    "\n",
    "However, the elf back at the north pole has had a little too much eggnog, and so his directions are a little off, and Santa ends up visiting some houses more than once. How many houses receive at least one present?\n",
    "\n",
    "For example:\n",
    "\n",
    "- \">\" delivers presents to 2 houses: one at the starting location, and one to the east.\n",
    "- ^>v< delivers presents to 4 houses in a square, including twice to the house at his starting/ending location.\n",
    "- ^v^v^v^v^v delivers a bunch of presents to some very lucky children at only 2 houses."
   ]
  },
  {
   "cell_type": "code",
   "execution_count": 74,
   "id": "9a50d51d",
   "metadata": {},
   "outputs": [],
   "source": [
    "def movement(sequence):\n",
    "    \n",
    "    house_visited_code = []\n",
    "    \n",
    "    origin = [0, 0]\n",
    "    \n",
    "    # For the start point\n",
    "    \n",
    "    house_visited_code.append(0)\n",
    "    \n",
    "    for symbol in sequence:\n",
    "        if symbol == '>':\n",
    "            origin[0] +=1\n",
    "        if symbol == '<':\n",
    "            origin[0] -=1\n",
    "        if symbol == '^':\n",
    "            origin[1] +=1\n",
    "        if symbol == 'v':\n",
    "            origin[1] -=1\n",
    "            \n",
    "# Using Cantor pairing function to find different values for each different ordered pair.\n",
    "    \n",
    "        a = origin[0]\n",
    "        b = origin[1]\n",
    "        \n",
    "        # This maps positive numbers to even positive numbers and negative numbers to odd positive numbers, all distinct.\n",
    "        \n",
    "        if a >= 0:\n",
    "            a = 2*a\n",
    "        else:\n",
    "            a = -2*a + 1\n",
    "            \n",
    "        if b >= 0:\n",
    "            b = 2*b\n",
    "        else:\n",
    "            b = -2*b + 1\n",
    "        \n",
    "        # Cantor pairing function\n",
    "        \n",
    "        code = 0.5*(a+b)*(a+b+1) + b\n",
    "                \n",
    "        house_visited_code.append(code)\n",
    "                \n",
    "    return house_visited_code"
   ]
  },
  {
   "cell_type": "code",
   "execution_count": 75,
   "id": "d298e66f",
   "metadata": {},
   "outputs": [
    {
     "data": {
      "text/plain": [
       "2572"
      ]
     },
     "execution_count": 75,
     "metadata": {},
     "output_type": "execute_result"
    }
   ],
   "source": [
    "house_visited = 'v>v<vvv<<vv^v<v>vv>v<<<^^^^^<<^<vv>^>v^>^>^>^>^><vvvv<^>^<<^><<<^vvvv>^>^><^v^><^<>^^>^vvv^<vv>>^>^^<>><>^>vvv>>^vv>^<><>^<v^>^>^><vv^vv^>><<^><<v>><>^<^>>vvv>v>>>v<<^<><^<v<>v>^^v^^^<^v^^>>><^>^>v<>^<>>^>^^v^><v<v>>><>v<v^v>^v<>>^><v>^<>v^>^<>^v^^^v^^>>vv<<^^><^<vvv>^>^^<^>>^^^^^v^<v>vv<>>v^v<^v^^<><^<^vv^><>><><>v>vvv^vv^^<<><<vvv><<^v^><v<>vvv^<^>vvvv^>^>>^v^<v^vv<^^v<>v>vv^<>><v<<<^v^<<><v<^<^<><^^^>^>>v>^>v^<>v><^<^<v^>^^vv<^^<>v^v^vv<>>>>v^v<>><^^v>vv^^>v^v>v<vv>>v>><v^v^v>vv>^^>^v><<vv^v^^vv<^v><^<<v<v^>vv^^^<v^>v>v^^^>><^^<v^<^>>v><vv<v^^>^^v>>v^^^<^^v>^v>><^<^<>>v<<^^vv>^^^v<^<^<v<v^^vv>^vv^>>v^><v>><<<>^vv^<^<>v^^<<<v<^>^><><v^^>>^^^<^vv<^^^>><^^v>^^v^<v^v^>^^<v>^<^v<^<<<<^<v^>v^<^^<>^^>^><<>>^v><>><^<v><^^^>>vv>^><vv>^^^^^v^vvv><><^<^>v>v^v^>^><><^<^><>v<<vv<^>><>^v^^v>^<<<>^v^>^<<v^vv<>v^<v^^vv><<v^<>>>^<v>vv>v>>>^<^>><vv<>>>>v<v>>>^v>v><>>vvv<^^><<^>^>v<^vvvv<v><vv<><^^^v^^^>v^v<>v<^^v>>><>v<v^>>v><v^>>^^<v<<<^<v<><^^v><<v^><<<<^vv<^<>^><vv<<<<^>>>^v>^v>vv>^v<>v>v<v><^>>v>>^>^><^<v^v^>^v<><><^^>^<vvvv^^<>^^^>vv^v^v>^v^^v^^v><v^<^<>><^<v>v>>vv<<v>>vvvv<vv><>>^v^>^>>v^v^<<<vv<><v<<>>>^v<<v>^^vv^><>v>^>v><<<<<<<^>^^v^<<^^>>vvv^<><>><>^^v<<vv><^^v<^^><vv>v^>>>v^v><v^v<^>v^><>v<<>v>^^v><<<<><^v^v>>^<>^<<>^<v<<>>v<<>><^<<<<^v>^<^v>v>vv<v<v<<>^>v<^<<>v^<vvvv^>v>><<v><v<>v>v>>v^vvv^^>>>v^<^<<^^<<<><v>v^<<v<<<>v<^^<><v<v^^<v>^>v>>v<>^>^^>>^v<<>v^^^>>>^vv<^v<v>^>v>^><>v^^<>^^v^^vv^<^>^<<>><<^>^v>>><<<vvvv><<><v<^v^v<vvv^<><<^<vv><v^v^v^>v>v^<vvv^><^><^<vv><>>v^>^^^<>><v^<^^^<>v<<v<^v>>>^>>v^><<>vvv><^>>v><v><>v>>^>v><<><<>^<>^^^vv><v^>v^^>>^>^<^v<v<^^<^vvvv>v<v>^>v^>^><^<vvvv><^><><<v<>v<v^><^<v^>^v^^<<<<^><^^<^><>>^v<<^<<^vv>v>>v<^<^vv>><v<vv>v<v<v>^v<>^>v<>^v<<<v>>^^v>>><vvv>v^>^v^v>^^^v<vvvv>><^>vvv^<vv^^vv><<<>v<>v>^<vvv^<^<v<v<^vv^^>>vv^<^^v^><^^^^^v<^<v<^>>>vv^v^>^<v>^<><v^<^v>>><^v^<<v<<v<>v>^v<v^v>>^^v<<v<v<<>>>vv>>^v>>^<<<<^><<<><^^>>v<>^vvvv>v^^^>^^^>^<vvvv><^^v<v<>v<^v^v<<v^^^v^<v<^v>v^^<>^>^<^v>vv<v^vv<^<<>v><<^><><^^v<<><^^><>^v>^<><<^<^^<<>vv<>^^<<^>><<<>>vvv>^>v^^v^><<^>v>^>^<^<<>v<^>vv^v^v<>vv<<v>vv<vv><^>v^<>^vv^v^<v<^>>>>v^v><^<><<>vv^<vvv^>>vvv^>v>>><^^vv<vvvv>v<^<^>>^^>^^vv>>><^v<>^v^<<>v^^^<v>^>>^<^<v>>^v<^^^<v>^v>^>>v<vv>>^<v^<<>>^>>><v>v^<<^<v>>^<<^^<>v<^v<^<>v^v>^^v<vvvv>^vv>vvv>v^<^>><v^^vv<<<^>vvvv<>>^^<>v^<><>v<^<>v<>^>v<>vv<v^v>>v<v<^<v^^v^vv^vvv><^^>v>><>>^<^^<>>^>^<v^>>vvv^v><v>>^>^>v><><<><vv^v>v<>^v<^vv^^^<>^^<<^^^v<>><v<^<^<^<^^><v^v<^>v^>vvvv>^^v^>^<v<^^^>>^<<vv^<><><^^^^<<>^<><v>vv^<><^>^^<>v^<>>>v><>vvvvv>v>v^^>^<<vvvv<>vv>>v<<^<>^^^v^<><>>^<<<v<v<>>>><><v>v<v<>>^>^^^^vv^^<<><^^<<vv<^<>v>vv<v<><<<^<<v<<<<>v<>>^<^>^>><v>v>><^^<>><<<><<><v^^v<<><^<^v<v^><^^v<<>><<<<^>v^<v>><v^><v<vvv>v^v^<v><<>>v<><<v>^<>><>>^><>v^v>v<<>v<>v^^><<>>>v<<>>>>^>v>><v<<>>>vv>v>^<^^^<>v<v>^<^^v^vvv^>vv>^<v><vvvv>^<<>vvv<<<vv>^^<^>^>>v>v<<<<<>^^vv^>>v>^<^<v^v^>^v>>v>^v<><>^<^>v>v<<<^^^v>^<<<>vvv^v^^>^>>^>v>v<>^^><>>v>^>v<<<^^^v^<v^vv>><><^<^<><vvv<v^>>^v>vv<^v<<^vv>v^<<v>v>v>^v^>^v<<^v^vv>v<v>^<<><v^>>v<>><v<<<^v<<>vvv^<vv<vvv<<>^vv^^v><^>v^vv<<v^<<^^^<^<>^^<<>v<><<v>^><>^<><<v<v^^>vv<>^<v<^<vvv>vv>v><^^v<>><^v^v><><>><v<v>vv<>>><v^^v<>><<^>>><^^^vvv<<<vv<<^v<<<>><<vv>>>>v<<<<<vv><><v>v^^<<^vv^<vv<>>vv>^<>^v^^<>^^^vv>v^^<v<><v>v<v>>^v<v<>>^<v^^><>v^^^>v^^v<vv><^>v^v^<>v>v<v<^^>>v<^^vv^v<^^^^vv<<><<^>>^^<<v^^<<^>v^>>^^^><^^>^v^v>^<<v<vv<<<v<^^^>^>>^v<>^<^>v>^>^v^<^^^<^vv<v><^^>>v<v>^>^v^>>>>^v>^^<<^<v^v<^<<v<<^><^^<v^<><v>v^<<v^^<><<>>><vv<<><>^<>>>v<<v^^^v^^<<<vv<<^<^<^vv^<><><<^^<^^>v^>^<v<>>v^v<><<v>^^v>^<^<vvv<v>v^v>>>^^<^<v^>^vv<<<v<<>^><><^<>v>>>v<v^<>v>><^^^v^^^v<^^<vv^^^>v>v<>>^^<><>v>^<v<>^>>>><>v>^v>^vv^v<vv<<^^>><v<>^>^^<v<^>^<vvv>><>^<<>>><<<><>^^<<<v<>v^>v>v<v>^^^>^>^v<<>v>vv>><<<v>^^<v><vv<<v^^>^>>^><^>v<^<^v>><^^>v<vv^^><><>^><<><>v^>v<><^^>><>^<^^v<^<<v>><v><<<^^<<v<^vv^v<>><>>>^>v<vvv^>^<><v^><^<<^vv<^v^v^v<>v^^v>v^<^>^vv^>>><<>v^vv^<>^v^><<v^v<v>v^<><>>v^v^><>v^vvv^^^<<^<<v<<v<^vv^>>v^v>^^<v<>><>v>>v^<>^>v>^>><<>v^v><^v>v>>><v<v><^<^^>vv<v><^>^<^>^^v><><v<^^v<<><^<<v^<v<<><^^vvv^v>^>^<>>vv>v^^v^^vv<^^>><v^^vv><^v>v^<<v<^v>vvv<>>^v><<>^v<<<>^><^vv><<^^<v^>v<<v>^vv<>^v>>>><<<<^^<^v>^<^^<^<^^>>^^v>^^^^v^^^<<>^^vv<<v^^><v>><^<<><>^>v<>>v^^^>^v^^v^<v^v>v>>>>>^v>^>^^<vvv^^<v^<<<v<<>v>><^^^v<<^^<v>>^<^<^><^<<v^v><<vv<^<>>v>v>^v<><<v>^>vv^v<v>v><^<v>><>^<vv<v^^^^v<^^>><<^^>v>v>^^^<>v>^v^^>vv^vv<^^>><>^>^<>v>><>^v<<v>v>^><^^^v^<vv><<^v^>v^>vv>v^<>v><vv><^v>v<><v^v^v<^v<>^v<v^<<><<v>>^v><v>^^<>vvv^>^<<v^>><^>><^<>^v<v<v<^vvv<><<^v^<v>><<<v>^<^<v>v>^vv^v>v<^^vv<<vvv^<v>><>vv^>v<<>v<vvvv>>v>^^>>><<<^>^vv>><v>^^^>v<^vv<>v<<<v<<<<v>>>>^<^^^^>v<^^<><v>v>v<v^>vv^>v>v<^>^v^<>v>>vvv>^^><^vvv>><>>>^<<^<v<>>>v^^><v<v>>^><>v<^^v^<<v><>^<>>><^v^v>>>^vvvv^<><<<v<^>>v>^v^<v<v<<^<<v^vv^v>v<v<>>v<v^<<<><v^>><^<<^>^^><v>v<^v^<^>v>^<<v>v^<>v^<>vv^<>^>^>v^>^vv<>^^<<>>v<>^v<><v^><><<<vv>v>v^>vv^><<<<v>^v<><>^^<vv>v^^v^^^<v<^^><v^v<>><v<vv>^<>>><vv<^v<<>>^><>>v<v^v^>>>v<<>v<<<<<<<^v<<^^^v<^v<>v^^<<<^<>>v^vv<v>^<^^<^^<<^>vv><^<^^v<<<^><^v<^><>v<vv^>^v^^>>><<vv^^v><^<<^<>>^>>^<<<<v^vv<>>>v>^v>><>v>>v>><>v>><^^><v>^^vv<^^<^>vv><<^>><<><v>^vvv><^v^>vvv^>>^<><^>^<<>>v^v>v<<>^>>^>v<^^<^<<>^^v<vvvvv^^^<^<>^^v>v<>^<^^<<v>v^^vvv^^v>^vv<v^>^<>v<^v^>^<v><v<<<^v<v<v^^<vvv>vv<<vv>v^<<v<^<vv><^>^><^^<^^<<v^^<v^v<v^^^^>^>vv^<>^<>^>^^<^v><<<^>vv^vv>v^v<>^^v^<^^^vvv^><v^<v^^<v<>v^<><>v>vv<^v^>>^v<^^vv>vv>^>><<<<v^^<^><>^><>>v<>>v>^v<^vv>^^>^<^<<v^>>v^v<^^v<vv<^<><^^>^^<>^^^<vv<v<<^^>^>^vv<^>><^<vvv^<>>vv^><v>v^>^vv>^>v^^<>>^v<>>v<^>^v>vv^<vv<^^>>^<v>>>>vvv>vv>^><^v<<<>^^v>v^v<^^^v^^>^><<^^>^<v>><^^^^^<v<vv<v<^<>^^<^v<^>>vv>>^v^vv<>><>^>>>^<v>^^^^><^<<<v<>^v<><vvv^<^^>vv^>>v<vvvv><v^v><^vv<^v<><vvv<vv>v<>^v^<<>>>>v^^>^vv<<vvv<^^><v><><<>v^v<^<^>><vv>^^><^>^><<><v<^v^><^<><>vv>>>>^><<^^^<^v^>^>^^>^<^><v><^^<^^<>><><v>><<<>^>^^v<>^<<<v>>vv>^>>^>^<>>vv<^^vv<>v<>^^>^v<v^^^^v<>^<v>v^v>^^^<v>v<<<^vv^><>^<v>>^^vv>v^<<^><>>vv^^^^^>v>>v<<<>^<vvv<<><><^v<^v<^>^<>^vvv>^>v><<<vv<>v>vv<v<<v>^<^^>v^v>^<^v^<<vvv^^<>^v<<^>^<><>^^<>>^^<^v^<^<v<><<^><v<>v^^>v^v^^^<^v<<^v>^>>^^^^^><<<vv^>>v^><v^^vv><>v^^<^v<^<v^^><<v>v^^^><^^^><<<<<>^<<^<>>v<<v^v^^v<<>^<vv>>><^^^<>>>>vvv>v<>>>v^v^v<^<<^>^<<>v>>^>^^><^><<^v^^<^<>v^v>vv<>>>>>>v<<><v^<v<>>^^>v<<<>^<<v><^><<^v>vv>>>><><>v^<^v><v^<<<<^v><^>v>>^^^v<^>>^>>v<<^<<>vvv>>^v<>>^v><<<^v^v<><v>^vvv<v<v>^^^<><vv^<<>vvv<v<^^v^^><v<^v<^v^<v<^>^^^>>v>^<v^>>^<><<><vv<>vv>^v^>>^<<v<^^v>v<v<vvv>><><<><vvvvv<^v<^>^^><>^<<>^v<<>>v^vv<<>^^v^v^v><^>v>v<^<<^<^>vv>^v<<^>^>>v^<<v^>v^^v^^<v^v>>><vv><<<>^v>><><v<vv<^>v<>><^v>^^v<<<<^v^vv<<<<><><^<^<^v><<^^v^<<<<<^^><^^>vv<v<^<v>v<^><><v<>vvv^<vv>v^>^>^^^v<<^<^^>vv<v^v^v>^vv^><^v^<<>v<^^>^vv<<>^<<><^>v^<<^<>v><><>v<<^^><^^^v>>v>^vv<v^>>^v^^<><<<<<^>^v^<^<^^>^vv<^>v^^v^<>v<><v>v^v>vvv><><<><>vv<vvv^v>^^>^^^<><^>^^^>v<vvvv<>vv<v<v^^>><>v<>>v^>v^^vv^>v>>><v<<<<v<^v>><^^>^v^v<v^v^^^vvv>>>vv<^>><<<^>><^<^>^<^>^>>v^<^<>^<^^<><vvv^^<>^<>>><<v>^<^<v<<><^<<^><^^>vv<>^^><v^v<vv<^<vvv<<^>v^>>v>>>v<<^vv^<><>>>^^<^v^>>^>>><<v<<^<vv><^<>^>>^v>>><^^^<<<vv<<v<v>^vv><><<>^^^<>^<vv^<^<<v>^^><vv>><>>>^>vv>^<^<>>^<^^><v>v^><v>vv><><>>><><<^^v<<^v<v>vv<><><<^v>^v<>^<^^^v^>^<^><^v>v>^v<>><^^v^^^^^<><v<>>vvv<v^^<>v>>>>^<<><^v>vv>>^^><<><><^^^<^<^<<^v>^^^><v>>>>><<v<v>v^^^<>>v<vv<^<>v^^^v<><^>v>><<><>v<^><<>>><>v>^<>>^>v^v<<<<>^<v^vv^>vv<<><v^vv<v<v<<>>>>>vv<><>^<^v>vv^<<v<^v^^<<^<<^^v^>>><<>^<>><^>>><v<>><<>^^>><<<^^^^^v>>^<<>>vvvv<^v<v^^<^>^vv<vv<>v<<<^><>>>>vv^<^v>v<^<>^v>>^<^^v^>>><>^^<^v>>v<<>vv<vvvv<>vv>^><>v^<>^<<^vv<v^^v<vvvv><^>>^v^>^^<<<^>>^^>^<^^<^<<<v^<^^v<<vv^<<^^^vv><v<vv^>v^^v<v>^^<^v<^>>><<>vv<<^><<v^v^^^v<vv>^>vv<^>>^<v<>vv>>>^>>><<v<^<>^<<<>>^<<>><^<<^^^>>v^^>v<<<>v>v>v<v<^>^<>>>^vvv><<^^<<><v<><^<v<vvv>v>>>>vv^^v<v<^<^><v>^v<<v<vv>>v>v<<<<><<>vv<><^^^<>>v<v<vvv><v^<vv^>>><v^^<>>>^^<><^<^v^><vv>>^^v>^<<v^>v>^^>^v^<v<^<v^v><>>v^^<^v^^<<>^^>v^^>><<<<^<^^v>^^v>v<<vv^^vv>^>v^<v<v><>vv>>^<v^v^<v<^>^v>v^^>vvvvv<v><<>vv>vvvvvv>>v>>^^^<v>vv^^><<v>>v^^^^v>vv>v<^v>>>>^>^><v^>^<v<vv>v>^>><v>><<>>^vv<vv^^<^^>>>>><><<^<v<><<v>^><^vv^v>>>>>v>^>^<vv>^v^>v<^v^<^<<vv<<>v<>>^vv<<>^v^v>><><<>>v^^<<>^^<v><>v<<^^<^^>^^>^<^><>>v<>>^^<^>><<<v<>>>^v^>v>v<<^^<<^>v<v^>>v^^v^^<<>^v>v><v^>v<^^>^<vv><vv^<>v<><^<<<vv<<v>v<^<<<<^^>v^v^^><<><^^^<v>v^^>>>vvv><>vv<>>^^v^v<<^>v^^v^>vv>^<<v<^<v^>^^<<v<^^>^v^^<^^v<<>>vv<^>>^><><>v>>v<>^<v^^><<>>>'\n",
    "\n",
    "list_house_visited = movement(house_visited)\n",
    "\n",
    "# Couting unique values in the list\n",
    "\n",
    "len(set(list_house_visited))"
   ]
  },
  {
   "cell_type": "markdown",
   "id": "7cd9eab5",
   "metadata": {},
   "source": [
    "## Day 3 - Part 2"
   ]
  },
  {
   "cell_type": "markdown",
   "id": "63cb6bc5",
   "metadata": {},
   "source": [
    "The next year, to speed up the process, Santa creates a robot version of himself, Robo-Santa, to deliver presents with him.\n",
    "\n",
    "Santa and Robo-Santa start at the same location (delivering two presents to the same starting house), then take turns moving based on instructions from the elf, who is eggnoggedly reading from the same script as the previous year.\n",
    "\n",
    "This year, how many houses receive at least one present?\n",
    "\n",
    "For example:\n",
    "\n",
    "- ^v delivers presents to 3 houses, because Santa goes north, and then Robo-Santa goes south.\n",
    "- ^>v< now delivers presents to 3 houses, and Santa and Robo-Santa end up back where they started.\n",
    "- ^v^v^v^v^v now delivers presents to 11 houses, with Santa going one direction and Robo-Santa going the other."
   ]
  },
  {
   "cell_type": "code",
   "execution_count": 82,
   "id": "98ad8354",
   "metadata": {},
   "outputs": [],
   "source": [
    "def movement_with_robot(sequence):\n",
    "    \n",
    "    house_visited_code = []\n",
    "    \n",
    "    origin_santa = [0, 0]\n",
    "    origin_robot = [0, 0]\n",
    "    \n",
    "    # For the start point\n",
    "    \n",
    "    house_visited_code.append(0)\n",
    "    \n",
    "    # Counter for santa/robot move\n",
    "    \n",
    "    move = 1\n",
    "    \n",
    "    for symbol in sequence:\n",
    "        \n",
    "        if move % 2 == 1:\n",
    "            \n",
    "            if symbol == '>':\n",
    "                origin_santa[0] +=1\n",
    "            if symbol == '<':\n",
    "                origin_santa[0] -=1\n",
    "            if symbol == '^':\n",
    "                origin_santa[1] +=1\n",
    "            if symbol == 'v':\n",
    "                origin_santa[1] -=1\n",
    "            \n",
    "            a = origin_santa[0]\n",
    "            b = origin_santa[1]\n",
    "            \n",
    "        else:\n",
    "            \n",
    "            if symbol == '>':\n",
    "                origin_robot[0] +=1\n",
    "            if symbol == '<':\n",
    "                origin_robot[0] -=1\n",
    "            if symbol == '^':\n",
    "                origin_robot[1] +=1\n",
    "            if symbol == 'v':\n",
    "                origin_robot[1] -=1\n",
    "            \n",
    "            a = origin_robot[0]\n",
    "            b = origin_robot[1]\n",
    "        \n",
    "        move += 1    \n",
    "        \n",
    "        # This maps positive numbers to even positive numbers and negative numbers to odd positive numbers, all distinct.\n",
    "        \n",
    "        if a >= 0:\n",
    "            a = 2*a\n",
    "        else:\n",
    "            a = -2*a + 1\n",
    "            \n",
    "        if b >= 0:\n",
    "            b = 2*b\n",
    "        else:\n",
    "            b = -2*b + 1\n",
    "        \n",
    "        # Cantor pairing function\n",
    "        \n",
    "        code = 0.5*(a+b)*(a+b+1) + b\n",
    "                \n",
    "        house_visited_code.append(code)\n",
    "                \n",
    "    return house_visited_code"
   ]
  },
  {
   "cell_type": "code",
   "execution_count": 83,
   "id": "3798fe1e",
   "metadata": {},
   "outputs": [
    {
     "data": {
      "text/plain": [
       "2631"
      ]
     },
     "execution_count": 83,
     "metadata": {},
     "output_type": "execute_result"
    }
   ],
   "source": [
    "list_house_visited = movement_with_robot(house_visited)\n",
    "\n",
    "# Couting unique values in the list\n",
    "\n",
    "len(set(list_house_visited))"
   ]
  },
  {
   "cell_type": "markdown",
   "id": "a505c284",
   "metadata": {},
   "source": [
    "## Day 4 - Part 1"
   ]
  },
  {
   "cell_type": "markdown",
   "id": "8a2bb6ff",
   "metadata": {},
   "source": [
    "Santa needs help mining some AdventCoins (very similar to bitcoins) to use as gifts for all the economically forward-thinking little girls and boys.\n",
    "\n",
    "To do this, he needs to find MD5 hashes which, in hexadecimal, start with at least five zeroes. The input to the MD5 hash is some secret key (your puzzle input, given below) followed by a number in decimal. To mine AdventCoins, you must find Santa the lowest positive number (no leading zeroes: 1, 2, 3, ...) that produces such a hash.\n",
    "\n",
    "For example:\n",
    "\n",
    "- If your secret key is abcdef, the answer is 609043, because the MD5 hash of abcdef609043 starts with five zeroes (000001dbbfa...), and it is the lowest such number to do so.\n",
    "\n",
    "- If your secret key is pqrstuv, the lowest number it combines with to make an MD5 hash starting with five zeroes is 1048970; that is, the MD5 hash of pqrstuv1048970 looks like 000006136ef...."
   ]
  },
  {
   "cell_type": "code",
   "execution_count": 157,
   "id": "b18c7f13",
   "metadata": {},
   "outputs": [],
   "source": [
    "import hashlib\n",
    "import itertools\n",
    "\n",
    "def find_value(input_str, zeros):\n",
    "    \n",
    "    prefix = '0' * zeros\n",
    "    input_bytes = input_str.encode('utf-8')\n",
    "    \n",
    "    for p in itertools.count():\n",
    "        \n",
    "        code = input_bytes + str(p).encode('utf-8')\n",
    "        result = hashlib.md5(code).hexdigest()\n",
    "        \n",
    "        if result.startswith(prefix):\n",
    "            return p"
   ]
  },
  {
   "cell_type": "code",
   "execution_count": 158,
   "id": "fa0d9c89",
   "metadata": {},
   "outputs": [
    {
     "data": {
      "text/plain": [
       "346386"
      ]
     },
     "execution_count": 158,
     "metadata": {},
     "output_type": "execute_result"
    }
   ],
   "source": [
    "input_valid = 'iwrupvqb'\n",
    "\n",
    "find_value(input_valid, 5)"
   ]
  },
  {
   "cell_type": "markdown",
   "id": "fb2ba858",
   "metadata": {},
   "source": [
    "## Day 4 - Part 2"
   ]
  },
  {
   "cell_type": "markdown",
   "id": "1f558f24",
   "metadata": {},
   "source": [
    "Now find one that starts with six zeroes."
   ]
  },
  {
   "cell_type": "code",
   "execution_count": 160,
   "id": "0952a5e0",
   "metadata": {},
   "outputs": [
    {
     "data": {
      "text/plain": [
       "9958218"
      ]
     },
     "execution_count": 160,
     "metadata": {},
     "output_type": "execute_result"
    }
   ],
   "source": [
    "find_value(input_valid, 6)"
   ]
  },
  {
   "cell_type": "markdown",
   "id": "55149286",
   "metadata": {},
   "source": [
    "## Day 5: Doesn't He Have Intern-Elves For This?"
   ]
  },
  {
   "cell_type": "markdown",
   "id": "742db16a",
   "metadata": {},
   "source": [
    "### Part 1"
   ]
  },
  {
   "cell_type": "markdown",
   "id": "2330f298",
   "metadata": {},
   "source": [
    "Santa needs help figuring out which strings in his text file are naughty or nice.\n",
    "\n",
    "A nice string is one with all of the following properties:\n",
    "\n",
    "- It contains at least three vowels (aeiou only), like aei, xazegov, or aeiouaeiouaeiou.\n",
    "- It contains at least one letter that appears twice in a row, like xx, abcdde (dd), or aabbccdd (aa, bb, cc, or dd).\n",
    "- It does not contain the strings ab, cd, pq, or xy, even if they are part of one of the other requirements.\n",
    "\n",
    "For example:\n",
    "\n",
    "- ugknbfddgicrmopn is nice because it has at least three vowels (u...i...o...), a double letter (...dd...), and none of the disallowed substrings.\n",
    "- aaa is nice because it has at least three vowels and a double letter, even though the letters used by different rules overlap.\n",
    "- jchzalrnumimnmhp is naughty because it has no double letter.\n",
    "- haegwjzuvuyypxyu is naughty because it contains the string xy.\n",
    "- dvszwmarrgswjxmb is naughty because it contains only one vowel.\n",
    "\n",
    "How many strings are nice?"
   ]
  },
  {
   "cell_type": "code",
   "execution_count": 224,
   "id": "276407b3",
   "metadata": {},
   "outputs": [],
   "source": [
    "def double_letter_rule(word):\n",
    "    \n",
    "    for i in range(len(word) - 1):\n",
    "        if word[i] == word[i + 1]:\n",
    "            return 'Nice'\n",
    "    return 'Naughty'\n",
    "\n",
    "    \n",
    "def vowels_rule(word):\n",
    "    \n",
    "    vowels = 'aeiou'\n",
    "    count_vowels = 0\n",
    "    \n",
    "    for letter in word:\n",
    "        if letter in vowels:\n",
    "            count_vowels += 1\n",
    "            if count_vowels >= 3:\n",
    "                return 'Nice'\n",
    "    \n",
    "    return 'Naughty'\n",
    "    \n",
    "def strings_out(word):\n",
    "    \n",
    "    if (word.find(\"ab\") + word.find(\"cd\") + word.find(\"pq\") + word.find(\"xy\")) == - 4:\n",
    "        return 'Nice'\n",
    "    else:\n",
    "        return 'Naughty'"
   ]
  },
  {
   "cell_type": "code",
   "execution_count": 223,
   "id": "1c7390a7",
   "metadata": {},
   "outputs": [
    {
     "data": {
      "text/plain": [
       "236"
      ]
     },
     "execution_count": 223,
     "metadata": {},
     "output_type": "execute_result"
    }
   ],
   "source": [
    "input_data_day5 = []\n",
    "\n",
    "with open('day5_input.txt', 'r') as file:\n",
    "    for line in file:\n",
    "        input_data_day5.append(line.strip())\n",
    "        \n",
    "nice_counter = 0\n",
    "\n",
    "for word in input_data_day5:\n",
    "    if (double_letter_rule(word) == 'Nice') & (vowels_rule(word) == 'Nice') & (strings_out(word) == 'Nice'):\n",
    "        nice_counter += 1\n",
    "\n",
    "nice_counter"
   ]
  },
  {
   "cell_type": "markdown",
   "id": "3be47621",
   "metadata": {},
   "source": [
    "### Part 2"
   ]
  },
  {
   "cell_type": "markdown",
   "id": "f14724d3",
   "metadata": {},
   "source": [
    "Realizing the error of his ways, Santa has switched to a better model of determining whether a string is naughty or nice. None of the old rules apply, as they are all clearly ridiculous.\n",
    "\n",
    "Now, a nice string is one with all of the following properties:\n",
    "\n",
    "- It contains a pair of any two letters that appears at least twice in the string without overlapping, like xyxy (xy) or aabcdefgaa (aa), but not like aaa (aa, but it overlaps).\n",
    "- It contains at least one letter which repeats with exactly one letter between them, like xyx, abcdefeghi (efe), or even aaa.\n",
    "\n",
    "For example:\n",
    "\n",
    "- qjhvhtzxzqqjkmpb is nice because is has a pair that appears twice (qj) and a letter that repeats with exactly one letter between them (zxz).\n",
    "- xxyxx is nice because it has a pair that appears twice and a letter that repeats with one between, even though the letters used by each rule overlap.\n",
    "- uurcxstgmygtbstg is naughty because it has a pair (tg) but no repeat with a single letter between them.\n",
    "- ieodomkazucvgmuy is naughty because it has a repeating letter with one between (odo), but no pair that appears twice.\n",
    "\n",
    "How many strings are nice under these new rules?"
   ]
  },
  {
   "cell_type": "code",
   "execution_count": 233,
   "id": "ae6d81d7",
   "metadata": {},
   "outputs": [],
   "source": [
    "def double_letter_no_overlapping_rule(word):\n",
    "    \n",
    "    for i in range(len(word) - 3):\n",
    "        letter_search = word[i]\n",
    "        for j in range(i + 2, len(word) - 1):\n",
    "            if word[j] == letter_search:\n",
    "                if word[i + 1] == word[j + 1]:\n",
    "                    return 'Nice'\n",
    "                \n",
    "    return 'Naughty'\n",
    "    \n",
    "\n",
    "def sandwich_letter_rule(word):\n",
    "    \n",
    "    for i in range(len(word) - 2):\n",
    "        if word[i] == word[i + 2]:\n",
    "            return 'Nice'\n",
    "    return 'Naughty'"
   ]
  },
  {
   "cell_type": "code",
   "execution_count": 234,
   "id": "e61afad2",
   "metadata": {},
   "outputs": [
    {
     "data": {
      "text/plain": [
       "51"
      ]
     },
     "execution_count": 234,
     "metadata": {},
     "output_type": "execute_result"
    }
   ],
   "source": [
    "nice_counter_part2 = 0\n",
    "\n",
    "for word in input_data_day5:\n",
    "    if (double_letter_no_overlapping_rule(word) == 'Nice') & (sandwich_letter_rule(word) == 'Nice'):\n",
    "        nice_counter_part2 += 1\n",
    "\n",
    "nice_counter_part2"
   ]
  },
  {
   "cell_type": "markdown",
   "id": "f5ad9e1c",
   "metadata": {},
   "source": [
    "## --- Day 6: Probably a Fire Hazard ---"
   ]
  },
  {
   "cell_type": "markdown",
   "id": "768948e3",
   "metadata": {},
   "source": [
    "Because your neighbors keep defeating you in the holiday house decorating contest year after year, you've decided to deploy one million lights in a 1000x1000 grid.\n",
    "\n",
    "Furthermore, because you've been especially nice this year, Santa has mailed you instructions on how to display the ideal lighting configuration.\n",
    "\n",
    "Lights in your grid are numbered from 0 to 999 in each direction; the lights at each corner are at 0,0, 0,999, 999,999, and 999,0. The instructions include whether to turn on, turn off, or toggle various inclusive ranges given as coordinate pairs. Each coordinate pair represents opposite corners of a rectangle, inclusive; a coordinate pair like 0,0 through 2,2 therefore refers to 9 lights in a 3x3 square. The lights all start turned off.\n",
    "\n",
    "To defeat your neighbors this year, all you have to do is set up your lights by doing the instructions Santa sent you in order.\n",
    "\n",
    "For example:\n",
    "\n",
    "- turn on 0,0 through 999,999 would turn on (or leave on) every light.\n",
    "- toggle 0,0 through 999,0 would toggle the first line of 1000 lights, turning off the ones that were on, and turning on the ones that were off.\n",
    "- turn off 499,499 through 500,500 would turn off (or leave off) the middle four lights.\n",
    "\n",
    "After following the instructions, how many lights are lit?"
   ]
  },
  {
   "cell_type": "code",
   "execution_count": 250,
   "id": "2846c928",
   "metadata": {},
   "outputs": [
    {
     "data": {
      "text/plain": [
       "(0, 660, 55, 986, 197)"
      ]
     },
     "execution_count": 250,
     "metadata": {},
     "output_type": "execute_result"
    }
   ],
   "source": [
    "input_data_day6 = []\n",
    "\n",
    "with open('day6_input.txt', 'r') as file:\n",
    "    for line in file:\n",
    "        input_data_day6.append(line.strip())\n",
    "        \n",
    "import re\n",
    "\n",
    "input6_final = []\n",
    "\n",
    "pattern = r'(turn on|turn off|toggle) (\\d+),(\\d+) through (\\d+),(\\d+)'\n",
    "\n",
    "for element in input_data_day6:\n",
    "    match = re.match(pattern, element.strip())\n",
    "    \n",
    "    if match:\n",
    "        operation_str, xi, yi, xf, yf = match.groups()\n",
    "        \n",
    "        if operation_str == 'turn on':\n",
    "            operation = 1\n",
    "        elif operation_str == 'turn off':\n",
    "            operation = 0\n",
    "        else:\n",
    "            operation = 2\n",
    "        \n",
    "        input6_final.append((operation, int(xi), int(yi), int(xf), int(yf)))\n",
    "        \n",
    "input6_final[0]"
   ]
  },
  {
   "cell_type": "code",
   "execution_count": 271,
   "id": "c63b257e",
   "metadata": {},
   "outputs": [
    {
     "data": {
      "text/plain": [
       "array([[0., 0., 0., ..., 0., 0., 0.],\n",
       "       [0., 0., 0., ..., 0., 0., 0.],\n",
       "       [0., 0., 0., ..., 0., 0., 0.],\n",
       "       ...,\n",
       "       [0., 0., 0., ..., 0., 0., 0.],\n",
       "       [0., 0., 0., ..., 0., 0., 0.],\n",
       "       [0., 0., 0., ..., 0., 0., 0.]])"
      ]
     },
     "execution_count": 271,
     "metadata": {},
     "output_type": "execute_result"
    }
   ],
   "source": []
  },
  {
   "cell_type": "code",
   "execution_count": 278,
   "id": "57fa287a",
   "metadata": {},
   "outputs": [
    {
     "data": {
      "text/plain": [
       "400410.0"
      ]
     },
     "execution_count": 278,
     "metadata": {},
     "output_type": "execute_result"
    }
   ],
   "source": [
    "import numpy as np\n",
    "\n",
    "lights = np.zeros((1000, 1000))\n",
    "\n",
    "def light_on(input, matrix):\n",
    "    matrix[input[1]:input[3]+1, input[2]:input[4]+1] = 1\n",
    "    return matrix\n",
    "\n",
    "def light_off(input, matrix):\n",
    "    matrix[input[1]:input[3]+1, input[2]:input[4]+1] = 0\n",
    "    return matrix\n",
    "\n",
    "def light_toggle(input, matrix):\n",
    "    matrix[input[1]:input[3]+1, input[2]:input[4]+1] = 1 - matrix[input[1]:input[3]+1, input[2]:input[4]+1]\n",
    "    return matrix\n",
    "\n",
    "for operation in input6_final:\n",
    "    if operation[0] == 0:\n",
    "        lights = light_off(operation, lights)\n",
    "    elif operation[0] == 1:\n",
    "        lights = light_on(operation, lights)\n",
    "    else:\n",
    "        lights = light_toggle(operation, lights)\n",
    "\n",
    "lights.sum()"
   ]
  },
  {
   "cell_type": "markdown",
   "id": "b68c1422",
   "metadata": {},
   "source": [
    "### Part 2"
   ]
  },
  {
   "cell_type": "markdown",
   "id": "6c4b88f7",
   "metadata": {},
   "source": [
    "You just finish implementing your winning light pattern when you realize you mistranslated Santa's message from Ancient Nordic Elvish.\n",
    "\n",
    "The light grid you bought actually has individual brightness controls; each light can have a brightness of zero or more. The lights all start at zero.\n",
    "\n",
    "The phrase turn on actually means that you should increase the brightness of those lights by 1.\n",
    "\n",
    "The phrase turn off actually means that you should decrease the brightness of those lights by 1, to a minimum of zero.\n",
    "\n",
    "The phrase toggle actually means that you should increase the brightness of those lights by 2.\n",
    "\n",
    "What is the total brightness of all lights combined after following Santa's instructions?\n",
    "\n",
    "For example:\n",
    "\n",
    "- turn on 0,0 through 0,0 would increase the total brightness by 1.\n",
    "- toggle 0,0 through 999,999 would increase the total brightness by 2000000."
   ]
  },
  {
   "cell_type": "code",
   "execution_count": 280,
   "id": "e6583b90",
   "metadata": {},
   "outputs": [
    {
     "data": {
      "text/plain": [
       "15343601.0"
      ]
     },
     "execution_count": 280,
     "metadata": {},
     "output_type": "execute_result"
    }
   ],
   "source": [
    "import numpy as np\n",
    "\n",
    "lights_2 = np.zeros((1000, 1000))\n",
    "\n",
    "def light_on(input, matrix):\n",
    "    matrix[input[1]:input[3]+1, input[2]:input[4]+1] += 1\n",
    "    return matrix\n",
    "\n",
    "def light_off(input, matrix):\n",
    "    matrix[input[1]:input[3]+1, input[2]:input[4]+1] -= 1\n",
    "    matrix[matrix < 0] = 0\n",
    "    return matrix\n",
    "\n",
    "def light_toggle(input, matrix):\n",
    "    matrix[input[1]:input[3]+1, input[2]:input[4]+1] +=2\n",
    "    return matrix\n",
    "\n",
    "for operation in input6_final:\n",
    "    if operation[0] == 0:\n",
    "        lights_2 = light_off(operation, lights_2)\n",
    "    elif operation[0] == 1:\n",
    "        lights_2 = light_on(operation, lights_2)\n",
    "    else:\n",
    "        lights_2 = light_toggle(operation, lights_2)\n",
    "\n",
    "lights_2.sum()"
   ]
  }
 ],
 "metadata": {
  "kernelspec": {
   "display_name": "Python 3 (ipykernel)",
   "language": "python",
   "name": "python3"
  },
  "language_info": {
   "codemirror_mode": {
    "name": "ipython",
    "version": 3
   },
   "file_extension": ".py",
   "mimetype": "text/x-python",
   "name": "python",
   "nbconvert_exporter": "python",
   "pygments_lexer": "ipython3",
   "version": "3.9.13"
  }
 },
 "nbformat": 4,
 "nbformat_minor": 5
}
