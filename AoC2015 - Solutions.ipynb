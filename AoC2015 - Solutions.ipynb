{
 "cells": [
  {
   "cell_type": "markdown",
   "id": "7b835ed7",
   "metadata": {},
   "source": [
    "# **Puzzles - Advent of Code 2015**"
   ]
  },
  {
   "cell_type": "markdown",
   "id": "58921b16",
   "metadata": {},
   "source": [
    "This notebook contains my solutions for the problems presented in [Advent of Code](https://adventofcode.com/) 2015. I only had the opportunity to discover this project by the end of 2024 and got really excited about solving some puzzles.\n",
    "\n",
    "As I wait for this year's version, I will try to solve the problems from past events. I thought a good idea would be to start from the beginning, in this case, 2015, when the first edition of the event took place.\n",
    "\n",
    "So, let's start!"
   ]
  },
  {
   "cell_type": "markdown",
   "id": "06b163ac",
   "metadata": {},
   "source": [
    "## **Day 1 - Part 1**"
   ]
  },
  {
   "cell_type": "markdown",
   "id": "554a9883",
   "metadata": {},
   "source": [
    "Santa is trying to deliver presents in a large apartment building, but he can't find the right floor - the directions he got are a little confusing. He starts on the ground floor (floor 0) and then follows the instructions one character at a time.\n",
    "\n",
    "An opening parenthesis, **(, means he should go up one floor**, and a closing parenthesis, **), means he should go down one floor**.\n",
    "\n",
    "The apartment building is very tall, and the basement is very deep; he will never find the top or bottom floors.\n",
    "\n",
    "For example:\n",
    "\n",
    "- (()) and ()() both result in floor 0.\n",
    "- ((( and (()(()( both result in floor 3.\n",
    "- ))((((( also results in floor 3.\n",
    "- ()) and ))( both result in floor -1 (the first basement level).\n",
    "- ))) and )())()) both result in floor -3.\n",
    "\n",
    "To what floor do the instructions take Santa?"
   ]
  },
  {
   "cell_type": "code",
   "execution_count": 4,
   "id": "44b10216",
   "metadata": {},
   "outputs": [
    {
     "data": {
      "text/plain": [
       "74"
      ]
     },
     "execution_count": 4,
     "metadata": {},
     "output_type": "execute_result"
    }
   ],
   "source": [
    "def ParenthesesCounter(instructions):\n",
    "  \n",
    "  counter_down = 0\n",
    "  counter_up = 0\n",
    "\n",
    "  for letter in instructions:\n",
    "    if letter == '(':\n",
    "      counter_up += 1\n",
    "    elif letter == ')':\n",
    "      counter_down -= 1\n",
    "\n",
    "  return counter_up + counter_down\n",
    "\n",
    "santa_instructions = '((((()(()(((((((()))(((()((((()())(())()(((()((((((()((()(()(((()(()((())))()((()()())))))))))()((((((())((()))(((((()(((((((((()()))((()(())()((())((()(()))((()))()))()(((((()(((()()))()())((()((((())()())()((((())()(()(()(((()(())(()(())(((((((())()()(((())(()(()(()(())))(()((((())((()))(((()(()()(((((()()(()(((()(((((())()))()((()(()))()((()((((())((((())(()(((())()()(()()()()()(())((((())((())(()()))()((((())))((((()())()((((())((()())((())(())(((((()((((()(((()((((())(()(((()()))()))((((((()((())()())))(((()(()))(()()(()(((()(()))((()()()())((()()()(((())())()())())())((()))(()(()))(((((()(()(())((()(())(())()((((()())()))((((())(())((())())((((()(((())(())((()()((((()((((((()(())()()(()(()()((((()))(())()())()))(())))(())))())()()(())(()))()((()(()(())()()))(()())))))(()))(()()))(())(((((()(()(()()((())()())))))((())())((())(()(())((()))(())(((()((((((((()()()(()))()()(((()))()((()()(())(())())()(()(())))(((((()(())(())(()))))())()))(()))()(()(((((((()((((())))())())())())()((((((((((((((()()((((((()()()())())()())())())(())(())))())((()())((()(()))))))()))))))))))))))))())((())((())()()))))))(((()((()(()()))((())(()()))()()())))(())))))))(()(((())))())()())))()()(())()))()(()))())((()()))))(()))))()))(()()(())))))))()(((()))))()(()))(())())))))()))((()))((()))())(())))))))))((((())()))()))()))())(())()()(())))())))(()())()))((()()(())))(())((((((()(())((()(((()(()()(())))()))))))()))()(()((()))()(()))(()(((())((((())())(())(()))))))))())))))))())())))))())))))()()(((())()(()))))))))())))))(())()()()))()))()))(()(())()()())())))))))())()(()(()))))()()()))))())(()))))()()))))()())))))(((())()()))(()))))))))))()()))))()()()))))(()())())()()())()(()))))()(()))(())))))))(((((())(())())()()))()()))(())))))()(()))))(())(()()))()())()))()))()))()))))())()()))())())))(()))(()))))))())()(((())()))))))))()))()())))())))())))()))))))))))()()))(()()))))))(())()(()))))())(()))))(()))))(()())))))())())()()))))())()))))))))(()))))()))))))()(()())))))))()))())))())))())))())))))))())(()()))))))(()())())))()())()))))))))))))))())))()(())))()))())()()(())(()()))(())))())()())(()(()(()))))())))))))))))())(()))()))()))))(())()())()())))))))))))()()))))))))))))())())))))(()())))))))))))())(())))()))))))))())())(()))()))(())))()))()()(())()))))))()((((())()))())())))))()))()))))((()())()))))())))(())))))))))))))))))()))))()()())()))()()))))())()))((()())))())))(()))(()())))))))()))()))))(())))))))(())))))())()()(()))())()))()()))))())()()))))())()))())))))))(()))))()())()))))))))(()))())))(()))()))))(())()))())())(())())())))))))((((())))))()))()))()())()(())))()))()))()())(()())()()(()())()))))())())))))(()))()))))())(()()(())))))(())()()((())())))))(())(())))))))())))))))))()(())))))))()())())())()(()))))))))(()))))))))())()()))()(()))))))()))))))())))))))(())))()()(())()())))))(((())))()((())()))())))(()()))())(())())))()(((()())))))()(()()())))()()(()()(()()))())()(()()()))())()()))()())(()))))())))))())))(())()()))))(()))))(())(()))(())))))()()))()))))())()))()()(())())))((()))())()))))))()()))))((()(()))))()()))))))())))))())(()((()())))))))))))()())())))()))(()))))))(()))(())()())))(()))))))))())()()()()))))(()())))))))((())))()))(()))(())(())()())()))))))))(())))())))(()))()()))(()()))(()))())))()(())))())((()((()(())))((())))()))))((((())())()())))(())))()))))))())(()()((())))())()(()())))))(()())()))())))))))((())())))))))(()(()))())()()(()()(((()(((()())))))()))))))()(())(()()((()()(())()()))())()())()))()())())())))))))(((())))))))()()))))))(((())()))(()()))(()()))))(()(()()((((())()())((()()))))(()(())))))()((()()()())()()((()((()()))(()))(((()()()))(((())))()(((())()))))))((()(())())))(()())(((((()(()))(()((()))(()())()))))(()(()))()(()))(())(((())(()()))))()()))(((()))))(()()()()))())))((()()()(())()))()))))()()))()))))))((((((()()()))))())((()()(((()))))(()(())(()()())())())))()(((()()))(())((())))(()))(()()()())((())())())(()))))()))()((()(())()(()()(())(()))(())()))(())(()))))(())(())())(()()(()((()()((())))((()))()((())))(((()()()()((((()))(()()))()()()(((())((())())(()()(()()()))()((())(())()))())(((()()(())))()((()()())()())(()(())())(((())(())())((())(())()(((()()))(())))((())(()())())(())((()()()((((((())))((()(((((())()))()))(())(()()))()))(())()()))(())((()()())()()(()))())()((())))()((()()())((((()())((())())())((()((()))()))((())((()()(()((()()(((())(()()))))((()((())()(((())(()((())())((())(()((((((())())()(()())()(())(((())((((((()(())(()((()()()((()()(()()()())))()()(((((()()))()((((((()))()(()(()(()(((()())((()))())()((()))(())))()))()()))())()()))())((((())(()(()))(((((((())(((()(((((()(((()()((((())(((())())))(()()()(()(()))()))((((((()))((()(((()(())((()((((()((((((())(((((())))(((()(()))))(((()(((())()((())(()((()))(((()()(((())((((()(()(((((()))(((()(((((((()(()()()(()(()(()()())(())(((((()(())())()())(()(()(()))()(()()()())(()()(()((()))()((())())()(()))((())(()))()(()))()(((()(()(()((((((()()()()())()(((((()()(((()()()((()(((((()))((((((((()()()(((((()))))))(()()()(())(()))(()()))))(())()))(((((()(((((()()(()(()())(((()))((((()((()(()(()((()(()((())))()(((()((()))((()))(((((((((()((()((()(())))()((((()((()()))((())(((()(((((()()(()(()()((()(()()()(((((((())())()())))))((((()()(()))()))(()((())()(()(((((((((()()(((()(()())(()((()())((())())((((()(((()(((()((((()((()((((()(()((((((())((((((((((((()()(()()((((((((((((((()((()()))()((((((((((((())((((()(()())((()(()(()))()(((((()()(((()()))()())(())((()(((((()((())(((((()((()(((((()))()()((((())()((((())(((((((((()(())(()(())))())(()((())(((())(())(())())(()(()(())()()((()((())()(((()(((((()(())))()(((()((())))((()()()(((()(((()((()(()(())(()((()())(()(()(((()(((((((((())(()((((()()))(()((((()()()()(((()((((((((()(()()((((((()(()()(()((()((((((((((()()(((((((()())(())))(((()()))(((((()((()()())(()()((((())((()((((()))))(())((()(()()(((()(()(((()((((()(((((()))())())(()((())()))(((()())((())((())((((()((()((((((())(()((((()()))((((((())()(()))((()(((())((((((((((()()(((((()(((((()((()()()((((())))(()))()((()(())()()((()((((((((((()((())(())(((((()(()(()()))((((()((((()()((()(((()(((((((((()(()((()((()))((((((()(((())()()((()(((((((()())))()()(()((()((()()(((()(()()()()((((()((())((((()(((((((((()(((()()(((()(()(((()(((()((())()(()((()(()(()(()))()(((()))(()((((()((())((((())((((((())(()))(()((((())((()(()((((((((()()((((((()(()(()()()(())((()((()()(((()(((((((()()((()(((((((()))(((((()(((()(()()()(()(((()((()()((())(()(((((((((()(()((()((((((()()((())()))(((((()((())()())()(((((((((((()))((((()()()()())(()()(()(()()))()))(()))(()(((()()))())(()(()))()()((())(()())()())()(()))()))(()()(()((((((())((()(((((((((((()(())()((()(()((()((()(()((()((((((((((()()())((())()(())))((())()())()(((((()(()())((((()((()(())(()))(((())()((()))(((((())(()))()()(()))(((())((((()((((()(())))(((((((()))))())()())(())((())()(()()((()(()))()(()()(()()((()())((())((()()))((((()))()()))(()()(())()()(((((()(())((()((((()))()))(()())())(((()()(()()))(())))))(()))((())(((((()((((()))()((((()))()((())(((())))(((()())))((()(()()(('\n",
    "\n",
    "ParenthesesCounter(santa_instructions)"
   ]
  },
  {
   "cell_type": "markdown",
   "id": "3e340d19",
   "metadata": {},
   "source": [
    "## Day 1 - Part II"
   ]
  },
  {
   "cell_type": "markdown",
   "id": "54d9bb7c",
   "metadata": {},
   "source": [
    "Now, given the same instructions, find the position of the first **character that causes him to enter the basement (floor -1)**. The first character in the instructions has position 1, the second character has position 2, and so on.\n",
    "\n",
    "For example:\n",
    "\n",
    "- ) causes him to enter the basement at character position 1.\n",
    "- ()()) causes him to enter the basement at character position 5.\n",
    "\n",
    "What is the position of the character that causes Santa to first enter the basement?"
   ]
  },
  {
   "cell_type": "code",
   "execution_count": 6,
   "id": "6f1c8151",
   "metadata": {},
   "outputs": [
    {
     "data": {
      "text/plain": [
       "1795"
      ]
     },
     "execution_count": 6,
     "metadata": {},
     "output_type": "execute_result"
    }
   ],
   "source": [
    "def BasementEnter(instructions):\n",
    "    counter_down = 0\n",
    "    counter_up = 0\n",
    "\n",
    "    for letter in instructions:\n",
    "        if letter == '(':\n",
    "            counter_up += 1\n",
    "        elif letter == ')':\n",
    "            counter_down += 1\n",
    "        \n",
    "        if counter_up < counter_down:\n",
    "        \n",
    "            return counter_up + counter_down\n",
    "            \n",
    "BasementEnter(santa_instructions)"
   ]
  },
  {
   "cell_type": "markdown",
   "id": "5d6b67eb",
   "metadata": {},
   "source": [
    "## Day 2 - Part 1"
   ]
  },
  {
   "cell_type": "markdown",
   "id": "4a36b4ff",
   "metadata": {},
   "source": [
    "The elves are running low on wrapping paper, and so they need to submit an order for more. They have a list of the dimensions (length l, width w, and height h) of each present, and only want to order exactly as much as they need.\n",
    "\n",
    "Fortunately, every present is a box (a perfect right rectangular prism), which makes calculating the required wrapping paper for each gift a little easier: find the surface area of the box, which is **2 × l × w + 2 × w × h + 2 × h × l**. The elves also need a little extra paper for each present: the area of the smallest side.\n",
    "\n",
    "For example:\n",
    "\n",
    "- A present with dimensions 2 × 3 × 4 requires 2 × 6 + 2 × 12 + 2 × 8 = 52 square feet of wrapping paper plus 6 square feet of slack, for a total of 58 square feet.\n",
    "- A present with dimensions 1 × 1 × 10 requires 2 × 1 + 2 × 10 + 2 × 10 = 42 square feet of wrapping paper plus 1 square foot of slack, for a total of 43 square feet.\n",
    "\n",
    "All numbers in the elves' list are in feet. How many total square feet of wrapping paper should they order?"
   ]
  },
  {
   "cell_type": "code",
   "execution_count": 34,
   "id": "0fbb9574",
   "metadata": {},
   "outputs": [],
   "source": [
    "def PaperGiftDimension(a, b, c):\n",
    "    \n",
    "    side_1 = a*b\n",
    "    side_2 = b*c\n",
    "    side_3 = a*c\n",
    "    \n",
    "    extra_paper = min(side_1, side_2, side_3)\n",
    "    \n",
    "    return 2*(side_1 + side_2 + side_3) + extra_paper"
   ]
  },
  {
   "cell_type": "code",
   "execution_count": 35,
   "id": "51c2e887",
   "metadata": {},
   "outputs": [
    {
     "data": {
      "text/plain": [
       "(3, 11, 24)"
      ]
     },
     "execution_count": 35,
     "metadata": {},
     "output_type": "execute_result"
    }
   ],
   "source": [
    "import re\n",
    "\n",
    "pattern = r'(\\d+)x(\\d+)x(\\d+)'\n",
    "\n",
    "input_data = []\n",
    "\n",
    "with open('day2_input.txt', 'r') as file:\n",
    "    for line in file:\n",
    "        \n",
    "        match = re.match(pattern, line.strip())\n",
    "        \n",
    "        dimensions = match.groups()\n",
    "            \n",
    "        l = int(dimensions[0])\n",
    "        w = int(dimensions[1])\n",
    "        h = int(dimensions[2])\n",
    "        \n",
    "        input_data.append((l, w, h))\n",
    "\n",
    "input_data[0]"
   ]
  },
  {
   "cell_type": "code",
   "execution_count": 36,
   "id": "c44f94bf",
   "metadata": {},
   "outputs": [
    {
     "data": {
      "text/plain": [
       "1588178"
      ]
     },
     "execution_count": 36,
     "metadata": {},
     "output_type": "execute_result"
    }
   ],
   "source": [
    "paper = 0\n",
    "\n",
    "for element in input_data:\n",
    "    \n",
    "    paper += PaperGiftDimension(element[0], element[1], element[2])\n",
    "    \n",
    "paper"
   ]
  },
  {
   "cell_type": "markdown",
   "id": "d4759a72",
   "metadata": {},
   "source": [
    "## Day 2 - Part 2"
   ]
  },
  {
   "cell_type": "markdown",
   "id": "24442d7c",
   "metadata": {},
   "source": [
    "The elves are also running low on ribbon. Ribbon is all the same width, so they only have to worry about the length they need to order, which they would again like to be exact.\n",
    "\n",
    "The ribbon required to wrap a present is the shortest distance around its sides, or the smallest perimeter of any one face. Each present also requires a bow made out of ribbon as well; the feet of ribbon required for the perfect bow is equal to the cubic feet of volume of the present. Don't ask how they tie the bow, though; they'll never tell.\n",
    "\n",
    "For example:\n",
    "\n",
    "- A present with dimensions 2 × 3 × 4 requires 2 + 2 + 3 + 3 = 10 feet of ribbon to wrap the present plus 2 × 3 × 4 = 24 feet of ribbon for the bow, for a total of 34 feet.\n",
    "- A present with dimensions 1 × 1 × 10 requires 1 + 1 + 1 + 1 = 4 feet of ribbon to wrap the present plus 1 × 1 × 10 = 10 feet of ribbon for the bow, for a total of 14 feet.\n",
    "\n",
    "How many total feet of ribbon should they order?"
   ]
  },
  {
   "cell_type": "code",
   "execution_count": 37,
   "id": "8310a4e2",
   "metadata": {},
   "outputs": [],
   "source": [
    "def RibbonSize(a, b, c):\n",
    "    \n",
    "    side_1 = a + b\n",
    "    side_2 = a + c\n",
    "    side_3 = b + c\n",
    "    \n",
    "    ribbon = 2*min(side_1, side_2, side_3)\n",
    "    \n",
    "    return ribbon + a*b*c"
   ]
  },
  {
   "cell_type": "code",
   "execution_count": 39,
   "id": "7728732f",
   "metadata": {},
   "outputs": [
    {
     "data": {
      "text/plain": [
       "3783758"
      ]
     },
     "execution_count": 39,
     "metadata": {},
     "output_type": "execute_result"
    }
   ],
   "source": [
    "ribbon = 0\n",
    "\n",
    "for element in input_data:\n",
    "    ribbon += RibbonSize(element[0], element[1], element[2])\n",
    "\n",
    "ribbon"
   ]
  },
  {
   "cell_type": "code",
   "execution_count": null,
   "id": "d298e66f",
   "metadata": {},
   "outputs": [],
   "source": []
  }
 ],
 "metadata": {
  "kernelspec": {
   "display_name": "Python 3 (ipykernel)",
   "language": "python",
   "name": "python3"
  },
  "language_info": {
   "codemirror_mode": {
    "name": "ipython",
    "version": 3
   },
   "file_extension": ".py",
   "mimetype": "text/x-python",
   "name": "python",
   "nbconvert_exporter": "python",
   "pygments_lexer": "ipython3",
   "version": "3.9.13"
  }
 },
 "nbformat": 4,
 "nbformat_minor": 5
}
